{
 "cells": [
  {
   "cell_type": "code",
   "execution_count": 48,
   "id": "b9ca2b03",
   "metadata": {},
   "outputs": [],
   "source": [
    "import math\n",
    "import numpy as np"
   ]
  },
  {
   "cell_type": "markdown",
   "id": "729a984c",
   "metadata": {},
   "source": [
    "# Defining the Students class"
   ]
  },
  {
   "cell_type": "code",
   "execution_count": 34,
   "id": "4cabf9b2",
   "metadata": {},
   "outputs": [],
   "source": [
    "class students:\n",
    "    def __init__(self):\n",
    "        self.__id = \"\"\n",
    "        self.__name = \"\"\n",
    "        self.__dob = \"\"\n",
    "    \n",
    "    def _set_student_name(self, name):\n",
    "        self.__name = name\n",
    "        \n",
    "    def _set_studentID(self, ID):\n",
    "        self.__id = ID\n",
    "        \n",
    "    def _set_dob(self, dob):\n",
    "        self.__dob = dob\n",
    "        \n",
    "    def _get_id(self):\n",
    "        return self.__id\n",
    "    \n",
    "    def _get_name(self):\n",
    "        return self.__name\n",
    "    \n",
    "    def _get_dob(self):\n",
    "        return self.__dob\n",
    "    \n",
    "    def __repr__(self):\n",
    "        return f'StudentObject(Name: {self.__name}, ID: {self.__id}, DoB: {self.__dob})'\n",
    "    \n",
    "    def display_info(self):\n",
    "        name = self._get_name()\n",
    "        ID = self._get_id()\n",
    "        dob = self._get_dob()\n",
    "        print(f'Name: {name}, ID: {ID}, DoB: {dob}')\n",
    "        \n",
    "    def add_students_to_list(self, list_of_student):\n",
    "        list_of_student.append(self)"
   ]
  },
  {
   "cell_type": "markdown",
   "id": "0ac523fe",
   "metadata": {},
   "source": [
    "# Defining the marks class"
   ]
  },
  {
   "cell_type": "code",
   "execution_count": 87,
   "id": "138eeacd",
   "metadata": {},
   "outputs": [],
   "source": [
    "\n",
    "class marks:\n",
    "    def __init__(self):\n",
    "        self.__att = 0 #attendance\n",
    "        self.__mid = 0\n",
    "        self.__final  = 0\n",
    "        self.__gpa = 0\n",
    "        self._weight = np.array([[0.1, 0.3, 0.6]])\n",
    "        \n",
    "    def _set_mark(self):\n",
    "        self.__att = float(input('Please enter attendance point: '))\n",
    "        self.__mid = float(input('Please enter midterm point: '))\n",
    "        self.__final = float(input(\"Please enter final point: \"))\n",
    "        return self\n",
    "    \n",
    "    def _get_att(self):\n",
    "        return self.__att\n",
    "    \n",
    "    def _get_mid(self):\n",
    "        return self.__mid\n",
    "    \n",
    "    def _get_final(self):\n",
    "        return self.__final\n",
    "    \n",
    "    def round_down_marks(self):\n",
    "        self.__att = math.floor(self.__att)\n",
    "        self.__mid = math.floor(self.__mid)\n",
    "        self.__final = math.floor(self.__final)\n",
    "        \n",
    "    def _set_gpa(self):\n",
    "        matrix_of_marks = [self._get_att(), self._get_mid(), self._get_final]\n",
    "        matrix_of_marks = np.array([matrix_of_marks])\n",
    "        self.__gpa = np.dot(matrix_of_marks, self._weight)\n",
    "        \n",
    "    def __repr__(self):\n",
    "        return f'MarksObject(Attendance: {self.__att}, Mid: {self.__mid}, Final: {self.__final}\\n GPA: {self.__gpa})'"
   ]
  },
  {
   "cell_type": "code",
   "execution_count": 84,
   "id": "3b502d3b",
   "metadata": {},
   "outputs": [
    {
     "data": {
      "text/plain": [
       "array([[2.5]])"
      ]
     },
     "execution_count": 84,
     "metadata": {},
     "output_type": "execute_result"
    }
   ],
   "source": [
    "import numpy as np\n",
    "a = [1, 2, 3]\n",
    "b = [0.1,\n",
    "    0.3,\n",
    "    0.6]\n",
    "a = np.array([a])\n",
    "b = np.array([b]).T\n",
    "np.dot(a, b)"
   ]
  },
  {
   "cell_type": "markdown",
   "id": "96283e24",
   "metadata": {},
   "source": [
    "# Defining the courses class"
   ]
  },
  {
   "cell_type": "code",
   "execution_count": 38,
   "id": "480a2170",
   "metadata": {},
   "outputs": [],
   "source": [
    "class courses:\n",
    "    \n",
    "    _list_of_students_of_course = []\n",
    "    _list_of_marks = []\n",
    "#For example, student with index 1 in the _list_of_students_of_course is correspond to element index 1 in _list_of_marks\n",
    "        \n",
    "    def __init__(self):\n",
    "        self.__courseID = \"\"\n",
    "        self.__course_name = \"\"\n",
    "        self.__creds = 0   #number of credits of the course\n",
    "        \n",
    "    def _set_name(self, name):\n",
    "        self.__course_name = name\n",
    "        \n",
    "    def _set_ID(self, ID):\n",
    "        self.__courseID = ID\n",
    "        \n",
    "    def _set_credits(self, creds):\n",
    "        self.__creds = creds\n",
    "       \n",
    "    def _get_courseID(self):\n",
    "        return self.__courseID\n",
    "    \n",
    "    def _get_course_name(self):\n",
    "        return self.__course_name\n",
    "    \n",
    "    def _get_credits(self):\n",
    "        return self.__creds\n",
    "    \n",
    "    def __repr__(self):\n",
    "        return f'CourseObject(Name: {self.__course_name}, ID: {self.__courseID}, Number of credits: {self.__creds})'\n",
    "    \n",
    "    def disp(self):\n",
    "        course_ID = self._get_courseID()\n",
    "        name_of_course = self._get_course_name()\n",
    "        print(f'Name of course: {name_of_course}, course ID: {course_ID}')\n",
    "        \n",
    "    def add_students_to_course(self, list_of_students, no_students):  # Method for adding students to a course\n",
    "        \n",
    "        counter = 1\n",
    "        a = input('Do you want to add students to this course ? Enter Y for yes and N for no: ')\n",
    "        \n",
    "        if a == \"Y\" or \"y\":\n",
    "            while counter <= no_students:\n",
    "                order = int(input('Please enter the numerical order of student you want to add: '))\n",
    "                while order <= 0:\n",
    "                    order = int(input(\"Invalid number ! Please enter again, it must be a positive number: \"))\n",
    "                            \n",
    "                self._list_of_students_of_course.append(list_of_students[order-1])\n",
    "                \n",
    "                b = input('Do you want to continue to add students to this course ? Enter Y for yes and N for no: ')\n",
    "                if b == \"Y\" or \"y\":\n",
    "                    counter += 1\n",
    "                    \n",
    "                else: break\n",
    "        \n",
    "        else: pass  \n",
    "\n",
    "            \n",
    "    def add_marks_to_list(self): \n",
    "        n = len(self._list_of_students_of_course)\n",
    "        for i in range(n):\n",
    "            print(f\"\\nPlease enter marks of student {i+1}, name {_list_of_students_of_course[i]._get_name}: \")\n",
    "            mark = marks()._set_mark()\n",
    "            self._list_of_marks.append(mark)\n",
    "            \n",
    "    def disp_all_in4(self):\n",
    "        print(f'Course {self._get_course_name}, id:{self._get_courseID}: \\n')\n",
    "        for i in range(len(self._list_of_students_of_course)):\n",
    "            name = self._list_of_students_of_course[i]._students__name\n",
    "            ID = self._list_of_students_of_course[i]._students__id\n",
    "            dob = self._list_of_students_of_course[i]._students__dob\n",
    "            att = self._list_of_marks[i]._marks__att\n",
    "            mid = self._list_of_marks[i]._marks__mid\n",
    "            final = self._list_of_marks[i]._marks__final\n",
    "            \n",
    "    \n",
    "            print(f\"Student number {i+1}:\\n Name: {name}, ID: {ID}\\n Attendance point: {att}, Midterm point: {mid}, Final point: {final}\")"
   ]
  },
  {
   "cell_type": "markdown",
   "id": "26260121",
   "metadata": {},
   "source": [
    "# Methods for adding students' in4 and courses' in4 to list of students and courses, respectively"
   ]
  },
  {
   "cell_type": "code",
   "execution_count": 43,
   "id": "dc77e545",
   "metadata": {},
   "outputs": [],
   "source": [
    "# class mark_sheet:\n",
    "#     def __init__(self):\n",
    "#         self.list_of_students = []\n",
    "#         self.list_of_courses = []\n",
    "        \n",
    "#     def enter_student_in4(self):\n",
    "#         n = int(input(\"Please enter the number of students: \"))\n",
    "#         while n <= 0: \n",
    "#             print(\"Invalid number! The number of students must be a positive number.\")\n",
    "#             n = int(input(\"Please enter the number of students: \"))\n",
    "\n",
    "#         for i in range(n):\n",
    "#             name = input(f\"Please enter name of student number {i+1}: \")\n",
    "#             ID = input(f\"Please enter student ID: \")\n",
    "#             dob = input(f\"PLease enter his/her DoB: \")\n",
    "#             student = students(ID, name, dob)\n",
    "#             self.list_of_students.append(student)\n",
    "        \n",
    "#     def enter_course_in4(self):\n",
    "#         n = int(input(\"Please enter the number of courses: \"))\n",
    "#         while n <= 0: \n",
    "#             print(\"Invalid number! The number of students must be a positive number.\")\n",
    "#             n = int(input(\"Please enter the number of students: \"))\n",
    "\n",
    "#         for i in range(n):\n",
    "#             name = input(f'Please enter the name of course number {i+1}: ')\n",
    "#             ID = input(f'Please enter the course ID: ')\n",
    "#             course = courses(ID, name)\n",
    "#             self.list_of_courses.append(course)"
   ]
  },
  {
   "cell_type": "code",
   "execution_count": 39,
   "id": "96aaca9c",
   "metadata": {},
   "outputs": [],
   "source": [
    "def enter_student_in4():\n",
    "    n = int(input(\"Please enter the number of students: \"))\n",
    "    while n <= 0: \n",
    "        print(\"Invalid number! The number of students must be a positive number.\")\n",
    "        n = int(input(\"Please enter the number of students: \"))\n",
    "        \n",
    "    for i in range(n):\n",
    "        student = students()\n",
    "        \n",
    "        name = input(f\"Please enter name of student number {i+1}: \")\n",
    "        student._set_student_name(name)\n",
    "        \n",
    "        ID = input(f\"Please enter student ID: \")\n",
    "        student._set_studentID(ID)\n",
    "        \n",
    "        dob = input(f\"PLease enter his/her DoB: \")\n",
    "        student._set_dob(dob)\n",
    "        \n",
    "        list_of_students.append(student)\n",
    "        \n",
    "def enter_course_in4():\n",
    "    n = int(input(\"Please enter the number of courses: \"))\n",
    "    while n <= 0: \n",
    "        print(\"Invalid number! The number of students must be a positive number.\")\n",
    "        n = int(input(\"Please enter the number of students: \"))\n",
    "        \n",
    "    for i in range(n):\n",
    "        course = courses()\n",
    "        \n",
    "        name = input(f'Please enter the name of course number {i+1}: ')\n",
    "        course._set_name(name)\n",
    "        \n",
    "        ID = input(f'Please enter the course ID: ')\n",
    "        course._set_ID(ID)\n",
    "        \n",
    "        credits = input(f'Please enter the number of credits: ')\n",
    "        course._set_credits(credits)\n",
    "        \n",
    "        list_of_courses.append(course)"
   ]
  },
  {
   "cell_type": "markdown",
   "id": "19f0854f",
   "metadata": {},
   "source": [
    "# Test"
   ]
  },
  {
   "cell_type": "code",
   "execution_count": 45,
   "id": "9a694dc0",
   "metadata": {},
   "outputs": [],
   "source": [
    "# test = mark_sheet()\n",
    "# test.enter_student_in4()\n",
    "# print(\"***********************************\")\n",
    "# test.enter_course_in4()"
   ]
  },
  {
   "cell_type": "code",
   "execution_count": 46,
   "id": "babdd407",
   "metadata": {},
   "outputs": [],
   "source": [
    "# test.list_of_students"
   ]
  },
  {
   "cell_type": "code",
   "execution_count": 92,
   "id": "c7ead185",
   "metadata": {},
   "outputs": [],
   "source": [
    "list_of_students = []\n",
    "list_of_courses = []"
   ]
  },
  {
   "cell_type": "code",
   "execution_count": 93,
   "id": "d5a3b306",
   "metadata": {},
   "outputs": [
    {
     "name": "stdout",
     "output_type": "stream",
     "text": [
      "Please enter the number of students: 3\n",
      "Please enter name of student number 1: a\n",
      "Please enter student ID: dsgfsdf\n",
      "PLease enter his/her DoB: 6345\n",
      "Please enter name of student number 2: b\n",
      "Please enter student ID: dfghsdf\n",
      "PLease enter his/her DoB: 1234\n",
      "Please enter name of student number 3: r\n",
      "Please enter student ID: 98345\n",
      "PLease enter his/her DoB: .fmgnef\n",
      "***********************************\n",
      "Please enter the number of courses: 2\n",
      "Please enter the name of course number 1: alg\n",
      "Please enter the course ID: 002\n",
      "Please enter the number of credits: 3\n",
      "Please enter the name of course number 2: cal\n",
      "Please enter the course ID: 001\n",
      "Please enter the number of credits: 4\n"
     ]
    }
   ],
   "source": [
    "enter_student_in4()\n",
    "print(\"***********************************\")\n",
    "enter_course_in4()"
   ]
  },
  {
   "cell_type": "code",
   "execution_count": 94,
   "id": "d11e75a0",
   "metadata": {},
   "outputs": [
    {
     "data": {
      "text/plain": [
       "[StudentObject(Name: a, ID: dsgfsdf, DoB: 6345),\n",
       " StudentObject(Name: b, ID: dfghsdf, DoB: 1234),\n",
       " StudentObject(Name: r, ID: 98345, DoB: .fmgnef)]"
      ]
     },
     "execution_count": 94,
     "metadata": {},
     "output_type": "execute_result"
    }
   ],
   "source": [
    "list_of_students"
   ]
  },
  {
   "cell_type": "code",
   "execution_count": 95,
   "id": "2b1f7f4d",
   "metadata": {},
   "outputs": [
    {
     "data": {
      "text/plain": [
       "[CourseObject(Name: alg, ID: 002, Number of credits: 3),\n",
       " CourseObject(Name: cal, ID: 001, Number of credits: 4)]"
      ]
     },
     "execution_count": 95,
     "metadata": {},
     "output_type": "execute_result"
    }
   ],
   "source": [
    "list_of_courses"
   ]
  },
  {
   "cell_type": "code",
   "execution_count": 90,
   "id": "ef63192f",
   "metadata": {},
   "outputs": [
    {
     "name": "stdout",
     "output_type": "stream",
     "text": [
      "Do you want to add students to this course ? Enter Y for yes and N for no: y\n",
      "Please enter the numerical order of student you want to add: 3\n",
      "Do you want to continue to add students to this course ? Enter Y for yes and N for no: y\n",
      "Please enter the numerical order of student you want to add: 1\n",
      "Do you want to continue to add students to this course ? Enter Y for yes and N for no: y\n",
      "Please enter the numerical order of student you want to add: 2\n",
      "Do you want to continue to add students to this course ? Enter Y for yes and N for no: y\n"
     ]
    }
   ],
   "source": [
    "list_of_courses[0].add_students_to_course(list_of_students, len(list_of_students))"
   ]
  },
  {
   "cell_type": "code",
   "execution_count": 47,
   "id": "d909b407",
   "metadata": {},
   "outputs": [],
   "source": [
    "c = list_of_courses[0]"
   ]
  },
  {
   "cell_type": "code",
   "execution_count": 91,
   "id": "87fa838b",
   "metadata": {},
   "outputs": [
    {
     "name": "stdout",
     "output_type": "stream",
     "text": [
      "\n",
      "Please enter marks of student 1: \n",
      "Please enter attendance point: 19.01\n",
      "Please enter midterm point: 15.23\n",
      "Please enter final point: 9.98\n",
      "\n",
      "Please enter marks of student 2: \n",
      "Please enter attendance point: 20\n",
      "Please enter midterm point: 12.56\n",
      "Please enter final point: 17.68\n",
      "\n",
      "Please enter marks of student 3: \n",
      "Please enter attendance point: 17.12\n",
      "Please enter midterm point: 5.45\n",
      "Please enter final point: 16.37\n",
      "\n",
      "Please enter marks of student 4: \n",
      "Please enter attendance point: sdfg\n"
     ]
    },
    {
     "ename": "ValueError",
     "evalue": "could not convert string to float: 'sdfg'",
     "output_type": "error",
     "traceback": [
      "\u001b[1;31m---------------------------------------------------------------------------\u001b[0m",
      "\u001b[1;31mValueError\u001b[0m                                Traceback (most recent call last)",
      "\u001b[1;32m<ipython-input-91-4d8c3d325158>\u001b[0m in \u001b[0;36m<module>\u001b[1;34m\u001b[0m\n\u001b[1;32m----> 1\u001b[1;33m \u001b[0mc\u001b[0m\u001b[1;33m.\u001b[0m\u001b[0madd_marks_to_list\u001b[0m\u001b[1;33m(\u001b[0m\u001b[1;33m)\u001b[0m\u001b[1;33m\u001b[0m\u001b[1;33m\u001b[0m\u001b[0m\n\u001b[0m",
      "\u001b[1;32m<ipython-input-38-b61066539991>\u001b[0m in \u001b[0;36madd_marks_to_list\u001b[1;34m(self)\u001b[0m\n\u001b[0;32m     62\u001b[0m         \u001b[1;32mfor\u001b[0m \u001b[0mi\u001b[0m \u001b[1;32min\u001b[0m \u001b[0mrange\u001b[0m\u001b[1;33m(\u001b[0m\u001b[0mn\u001b[0m\u001b[1;33m)\u001b[0m\u001b[1;33m:\u001b[0m\u001b[1;33m\u001b[0m\u001b[1;33m\u001b[0m\u001b[0m\n\u001b[0;32m     63\u001b[0m             \u001b[0mprint\u001b[0m\u001b[1;33m(\u001b[0m\u001b[1;34mf\"\\nPlease enter marks of student {i+1}: \"\u001b[0m\u001b[1;33m)\u001b[0m\u001b[1;33m\u001b[0m\u001b[1;33m\u001b[0m\u001b[0m\n\u001b[1;32m---> 64\u001b[1;33m             \u001b[0mmark\u001b[0m \u001b[1;33m=\u001b[0m \u001b[0mmarks\u001b[0m\u001b[1;33m(\u001b[0m\u001b[1;33m)\u001b[0m\u001b[1;33m.\u001b[0m\u001b[0m_set_mark\u001b[0m\u001b[1;33m(\u001b[0m\u001b[1;33m)\u001b[0m\u001b[1;33m\u001b[0m\u001b[1;33m\u001b[0m\u001b[0m\n\u001b[0m\u001b[0;32m     65\u001b[0m             \u001b[0mself\u001b[0m\u001b[1;33m.\u001b[0m\u001b[0m_list_of_marks\u001b[0m\u001b[1;33m.\u001b[0m\u001b[0mappend\u001b[0m\u001b[1;33m(\u001b[0m\u001b[0mmark\u001b[0m\u001b[1;33m)\u001b[0m\u001b[1;33m\u001b[0m\u001b[1;33m\u001b[0m\u001b[0m\n\u001b[0;32m     66\u001b[0m \u001b[1;33m\u001b[0m\u001b[0m\n",
      "\u001b[1;32m<ipython-input-87-94e186f9cd97>\u001b[0m in \u001b[0;36m_set_mark\u001b[1;34m(self)\u001b[0m\n\u001b[0;32m      8\u001b[0m \u001b[1;33m\u001b[0m\u001b[0m\n\u001b[0;32m      9\u001b[0m     \u001b[1;32mdef\u001b[0m \u001b[0m_set_mark\u001b[0m\u001b[1;33m(\u001b[0m\u001b[0mself\u001b[0m\u001b[1;33m)\u001b[0m\u001b[1;33m:\u001b[0m\u001b[1;33m\u001b[0m\u001b[1;33m\u001b[0m\u001b[0m\n\u001b[1;32m---> 10\u001b[1;33m         \u001b[0mself\u001b[0m\u001b[1;33m.\u001b[0m\u001b[0m__att\u001b[0m \u001b[1;33m=\u001b[0m \u001b[0mfloat\u001b[0m\u001b[1;33m(\u001b[0m\u001b[0minput\u001b[0m\u001b[1;33m(\u001b[0m\u001b[1;34m'Please enter attendance point: '\u001b[0m\u001b[1;33m)\u001b[0m\u001b[1;33m)\u001b[0m\u001b[1;33m\u001b[0m\u001b[1;33m\u001b[0m\u001b[0m\n\u001b[0m\u001b[0;32m     11\u001b[0m         \u001b[0mself\u001b[0m\u001b[1;33m.\u001b[0m\u001b[0m__mid\u001b[0m \u001b[1;33m=\u001b[0m \u001b[0mfloat\u001b[0m\u001b[1;33m(\u001b[0m\u001b[0minput\u001b[0m\u001b[1;33m(\u001b[0m\u001b[1;34m'Please enter midterm point: '\u001b[0m\u001b[1;33m)\u001b[0m\u001b[1;33m)\u001b[0m\u001b[1;33m\u001b[0m\u001b[1;33m\u001b[0m\u001b[0m\n\u001b[0;32m     12\u001b[0m         \u001b[0mself\u001b[0m\u001b[1;33m.\u001b[0m\u001b[0m__final\u001b[0m \u001b[1;33m=\u001b[0m \u001b[0mfloat\u001b[0m\u001b[1;33m(\u001b[0m\u001b[0minput\u001b[0m\u001b[1;33m(\u001b[0m\u001b[1;34m\"Please enter final point: \"\u001b[0m\u001b[1;33m)\u001b[0m\u001b[1;33m)\u001b[0m\u001b[1;33m\u001b[0m\u001b[1;33m\u001b[0m\u001b[0m\n",
      "\u001b[1;31mValueError\u001b[0m: could not convert string to float: 'sdfg'"
     ]
    }
   ],
   "source": [
    "c.add_marks_to_list()"
   ]
  },
  {
   "cell_type": "code",
   "execution_count": 13,
   "id": "13235acc",
   "metadata": {},
   "outputs": [
    {
     "data": {
      "text/plain": [
       "[MarksObject(Attendance: 10.01, Mid: 10.23, Final: 17.28),\n",
       " MarksObject(Attendance: 15.02, Mid: 13.78, Final: 19.98),\n",
       " MarksObject(Attendance: 19.91, Mid: 5.67, Final: 16.34)]"
      ]
     },
     "execution_count": 13,
     "metadata": {},
     "output_type": "execute_result"
    }
   ],
   "source": [
    "c._list_of_marks"
   ]
  },
  {
   "cell_type": "markdown",
   "id": "249b0639",
   "metadata": {},
   "source": [
    "# Round down the marks"
   ]
  },
  {
   "cell_type": "code",
   "execution_count": 16,
   "id": "e4f65265",
   "metadata": {},
   "outputs": [],
   "source": [
    "for marks in c._list_of_marks:\n",
    "    marks.round_down_marks()"
   ]
  },
  {
   "cell_type": "markdown",
   "id": "f34caaaa",
   "metadata": {},
   "source": [
    "# Display all information"
   ]
  },
  {
   "cell_type": "code",
   "execution_count": 17,
   "id": "b54731ab",
   "metadata": {},
   "outputs": [
    {
     "name": "stdout",
     "output_type": "stream",
     "text": [
      "Course <bound method courses._get_course_name of CourseObject(Name: alg, ID: 002)>, id:<bound method courses._get_courseID of CourseObject(Name: alg, ID: 002)>: \n",
      "\n",
      "Student number 1:\n",
      " Name: r, ID: ,sdmfg\n",
      " Attendance point: 10, Midterm point: 10, Final point: 17\n",
      "Student number 2:\n",
      " Name: a, ID: 123\n",
      " Attendance point: 15, Midterm point: 13, Final point: 19\n",
      "Student number 3:\n",
      " Name: b, ID: alsjdhf\n",
      " Attendance point: 19, Midterm point: 5, Final point: 16\n"
     ]
    }
   ],
   "source": [
    "c.disp_all_in4()"
   ]
  },
  {
   "cell_type": "markdown",
   "id": "fefe28ca",
   "metadata": {},
   "source": []
  }
 ],
 "metadata": {
  "kernelspec": {
   "display_name": "Python 3",
   "language": "python",
   "name": "python3"
  },
  "language_info": {
   "codemirror_mode": {
    "name": "ipython",
    "version": 3
   },
   "file_extension": ".py",
   "mimetype": "text/x-python",
   "name": "python",
   "nbconvert_exporter": "python",
   "pygments_lexer": "ipython3",
   "version": "3.8.8"
  }
 },
 "nbformat": 4,
 "nbformat_minor": 5
}
