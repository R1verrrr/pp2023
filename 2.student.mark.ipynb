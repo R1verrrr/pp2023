{
 "cells": [
  {
   "cell_type": "code",
   "execution_count": 100,
   "id": "891889cb",
   "metadata": {},
   "outputs": [],
   "source": [
    "class students:\n",
    "    def __init__(self, __id = \"\", __name = \"\", __dob = \"\"):\n",
    "        self.__id = __id\n",
    "        self.__name = __name\n",
    "        self.__dob = __dob\n",
    "    \n",
    "    def __repr__(self):\n",
    "        return f'StudentObject(Name: {self.__name}, ID: {self.__id}, DoB: {self.__dob})'\n",
    "        \n",
    "    def _get_id(self):\n",
    "        return self.__id\n",
    "    \n",
    "    def _get_name(self):\n",
    "        return self.__name\n",
    "    \n",
    "    def _get_dob(self):\n",
    "        return self.__dob\n",
    "    \n",
    "    def display_info(self):\n",
    "        name = self._get_name()\n",
    "        ID = self._get_id()\n",
    "        dob = self._get_dob()\n",
    "        print(f'Name: {name}, ID: {ID}, DoB: {dob}')\n",
    "        \n",
    "    def add_students_to_list(self, list_of_student):\n",
    "        list_of_student.append(self)\n",
    "        "
   ]
  },
  {
   "cell_type": "code",
   "execution_count": 101,
   "id": "9f0076a1",
   "metadata": {},
   "outputs": [],
   "source": [
    "class marks:\n",
    "    def __init__(self):\n",
    "        self.__att = 0 #attendance\n",
    "        self.__mid = 0\n",
    "        self.__final  = 0\n",
    "        \n",
    "    def _set_mark(self):\n",
    "        self.__att = float(input('Please enter attendance point: '))\n",
    "        self.__mid = float(input('Please enter midterm point: '))\n",
    "        self.__final = float(input(\"Please enter final point: \"))\n",
    "        return self\n",
    "    \n",
    "    def __repr__(self):\n",
    "        return f'MarksObject(Attendance: {self.__att}, Mid: {self.__mid}, Final: {self.__final})'\n",
    "    "
   ]
  },
  {
   "cell_type": "code",
   "execution_count": 102,
   "id": "fc13836e",
   "metadata": {},
   "outputs": [],
   "source": [
    "An = students(\"006\", \"Duy An\", \"01012023\")"
   ]
  },
  {
   "cell_type": "code",
   "execution_count": 103,
   "id": "b427c58d",
   "metadata": {},
   "outputs": [
    {
     "data": {
      "text/plain": [
       "StudentObject(Name: Duy An, ID: 006, DoB: 01012023)"
      ]
     },
     "execution_count": 103,
     "metadata": {},
     "output_type": "execute_result"
    }
   ],
   "source": [
    "An"
   ]
  },
  {
   "cell_type": "code",
   "execution_count": 153,
   "id": "2ee7ec4b",
   "metadata": {},
   "outputs": [],
   "source": [
    "class courses:\n",
    "    \n",
    "    _list_of_students_of_course = []\n",
    "    _list_of_marks = []\n",
    "#For example, student with index 1 in the _list_of_students_of_course is correspond to element index 1 in _list_of_marks\n",
    "        \n",
    "    def __init__(self, __courseID = \"\", __course_name = \"\"):\n",
    "        self.__courseID = __courseID\n",
    "        self.__course_name = __course_name\n",
    "       \n",
    "    def _get_courseID(self):\n",
    "        return self.__courseID\n",
    "    \n",
    "    def _get_course_name(self):\n",
    "        return self.__course_name\n",
    "    \n",
    "    def __repr__(self):\n",
    "        return f'CourseObject(Name: {self.__course_name}, ID: {self.__courseID})'\n",
    "    \n",
    "    def disp(self):\n",
    "        course_ID = self._get_courseID()\n",
    "        name_of_course = self._get_course_name()\n",
    "        print(f'Name of course: {name_of_course}, course ID: {course_ID}')\n",
    "        \n",
    "    def add_students_to_course(self, list_of_students, no_students):\n",
    "        \n",
    "        counter = 1\n",
    "        a = input('Do you want to add students to this course ? Enter Y for yes and N for no: ')\n",
    "        \n",
    "        if a == \"Y\" or \"y\":\n",
    "            while counter <= no_students:\n",
    "                order = int(input('Please enter the numerical order of student you want to add: '))\n",
    "                while order <= 0:\n",
    "                    order = int(input(\"Invalid number ! Please enter again, it must be a positive number: \"))\n",
    "                            \n",
    "                self._list_of_students_of_course.append(list_of_students[order-1])\n",
    "                \n",
    "                b = input('Do you want to continue to add students to this course ? Enter Y for yes and N for no: ')\n",
    "                if b == \"Y\" or \"y\":\n",
    "                    counter += 1\n",
    "                    \n",
    "                else: break\n",
    "        \n",
    "        else: pass  \n",
    "\n",
    "            \n",
    "    def add_marks_to_list(self): \n",
    "        n = len(self._list_of_students_of_course)\n",
    "        for i in range(n):\n",
    "            print(f\"\\nPlease enter marks of student {i+1}: \")\n",
    "            mark = marks()._set_mark()\n",
    "            self._list_of_marks.append(mark)\n",
    "            \n",
    "    def disp_all_in4(self):\n",
    "        print(f'Course {self._get_course_name}, id:{self._get_courseID}: \\n')\n",
    "        for i in range(len(self._list_of_students_of_course)):\n",
    "            name = self._list_of_students_of_course[i]._students__name\n",
    "            ID = self._list_of_students_of_course[i]._students__id\n",
    "            dob = self._list_of_students_of_course[i]._students__dob\n",
    "            att = self._list_of_marks[i]._marks__att\n",
    "            mid = self._list_of_marks[i]._marks__mid\n",
    "            final = self._list_of_marks[i]._marks__final\n",
    "            \n",
    "            \n",
    "            print(f\"Student number {i+1}:\\n Name: {name}, ID: {ID}\\n Attendance point: {att}, Midterm point: {mid}, Final point: {final}\")\n",
    "            \n",
    "        \n",
    "    "
   ]
  },
  {
   "cell_type": "code",
   "execution_count": 154,
   "id": "30755031",
   "metadata": {},
   "outputs": [],
   "source": [
    "def enter_student_in4():\n",
    "    n = int(input(\"Please enter the number of students: \"))\n",
    "    while n <= 0: \n",
    "        print(\"Invalid number! The number of students must be a positive number.\")\n",
    "        n = int(input(\"Please enter the number of students: \"))\n",
    "        \n",
    "    for i in range(n):\n",
    "        name = input(f\"Please enter name of student number {i+1}: \")\n",
    "        ID = input(f\"Please enter student ID: \")\n",
    "        dob = input(f\"PLease enter his/her DoB: \")\n",
    "        student = students(ID, name, dob)\n",
    "        list_of_students.append(student)\n",
    "        \n",
    "def enter_course_in4():\n",
    "    n = int(input(\"Please enter the number of courses: \"))\n",
    "    while n <= 0: \n",
    "        print(\"Invalid number! The number of students must be a positive number.\")\n",
    "        n = int(input(\"Please enter the number of students: \"))\n",
    "        \n",
    "    for i in range(n):\n",
    "        name = input(f'Please enter the name of course number {i+1}: ')\n",
    "        ID = input(f'Please enter the course ID: ')\n",
    "        course = courses(ID, name)\n",
    "        list_of_courses.append(course)"
   ]
  },
  {
   "cell_type": "code",
   "execution_count": 155,
   "id": "ddac4a82",
   "metadata": {},
   "outputs": [],
   "source": [
    "list_of_students = []\n",
    "list_of_courses = []"
   ]
  },
  {
   "cell_type": "code",
   "execution_count": 156,
   "id": "d4712792",
   "metadata": {},
   "outputs": [
    {
     "name": "stdout",
     "output_type": "stream",
     "text": [
      "Please enter the number of students: 3\n",
      "Please enter name of student number 1: a\n",
      "Please enter student ID: 03241\n",
      "PLease enter his/her DoB: 0101\n",
      "Please enter name of student number 2: o\n",
      "Please enter student ID: 03742\n",
      "PLease enter his/her DoB: 0201\n",
      "Please enter name of student number 3: i\n",
      "Please enter student ID: 0909\n",
      "PLease enter his/her DoB: 0303\n",
      "***********************************\n",
      "Please enter the number of courses: 2\n",
      "Please enter the name of course number 1: alg\n",
      "Please enter the course ID: 002\n",
      "Please enter the name of course number 2: cal\n",
      "Please enter the course ID: 001\n"
     ]
    }
   ],
   "source": [
    "enter_student_in4()\n",
    "print(\"***********************************\")\n",
    "enter_course_in4()\n"
   ]
  },
  {
   "cell_type": "code",
   "execution_count": 157,
   "id": "725c70e1",
   "metadata": {},
   "outputs": [
    {
     "data": {
      "text/plain": [
       "[StudentObject(Name: a, ID: 03241, DoB: 0101),\n",
       " StudentObject(Name: o, ID: 03742, DoB: 0201),\n",
       " StudentObject(Name: i, ID: 0909, DoB: 0303)]"
      ]
     },
     "execution_count": 157,
     "metadata": {},
     "output_type": "execute_result"
    }
   ],
   "source": [
    "list_of_students"
   ]
  },
  {
   "cell_type": "code",
   "execution_count": 158,
   "id": "5ce05b17",
   "metadata": {},
   "outputs": [
    {
     "data": {
      "text/plain": [
       "[CourseObject(Name: alg, ID: 002), CourseObject(Name: cal, ID: 001)]"
      ]
     },
     "execution_count": 158,
     "metadata": {},
     "output_type": "execute_result"
    }
   ],
   "source": [
    "list_of_courses"
   ]
  },
  {
   "cell_type": "code",
   "execution_count": 159,
   "id": "0c30d3ef",
   "metadata": {},
   "outputs": [
    {
     "name": "stdout",
     "output_type": "stream",
     "text": [
      "Do you want to add students to this course ? Enter Y for yes and N for no: y\n",
      "Please enter the numerical order of student you want to add: 3\n",
      "Do you want to continue to add students to this course ? Enter Y for yes and N for no: y\n",
      "Please enter the numerical order of student you want to add: 1\n",
      "Do you want to continue to add students to this course ? Enter Y for yes and N for no: y\n",
      "Please enter the numerical order of student you want to add: 2\n",
      "Do you want to continue to add students to this course ? Enter Y for yes and N for no: n\n"
     ]
    }
   ],
   "source": [
    "list_of_courses[0].add_students_to_course(list_of_students, len(list_of_students))"
   ]
  },
  {
   "cell_type": "code",
   "execution_count": 160,
   "id": "42f14545",
   "metadata": {},
   "outputs": [],
   "source": [
    "c = list_of_courses[0]"
   ]
  },
  {
   "cell_type": "code",
   "execution_count": 163,
   "id": "a284c8fd",
   "metadata": {},
   "outputs": [
    {
     "name": "stdout",
     "output_type": "stream",
     "text": [
      "Please enter marks of student 1: \n",
      "Please enter attendance point: 20\n",
      "Please enter midterm point: 10\n",
      "Please enter final point: 12\n",
      "Please enter marks of student 2: \n",
      "Please enter attendance point: 20\n",
      "Please enter midterm point: 8\n",
      "Please enter final point: 12\n",
      "Please enter marks of student 3: \n",
      "Please enter attendance point: 9\n",
      "Please enter midterm point: 10\n",
      "Please enter final point: 14\n"
     ]
    }
   ],
   "source": [
    "c.add_marks_to_list()"
   ]
  },
  {
   "cell_type": "code",
   "execution_count": 164,
   "id": "ce980b37",
   "metadata": {},
   "outputs": [
    {
     "data": {
      "text/plain": [
       "[MarksObject(Attendance: 20.0, Mid: 10.0, Final: 12.0),\n",
       " MarksObject(Attendance: 20.0, Mid: 8.0, Final: 12.0),\n",
       " MarksObject(Attendance: 9.0, Mid: 10.0, Final: 14.0)]"
      ]
     },
     "execution_count": 164,
     "metadata": {},
     "output_type": "execute_result"
    }
   ],
   "source": [
    "c._list_of_marks"
   ]
  },
  {
   "cell_type": "code",
   "execution_count": 165,
   "id": "74843a59",
   "metadata": {},
   "outputs": [
    {
     "name": "stdout",
     "output_type": "stream",
     "text": [
      "Course <bound method courses._get_course_name of CourseObject(Name: alg, ID: 002)>, id:<bound method courses._get_courseID of CourseObject(Name: alg, ID: 002)>: \n",
      "\n",
      "Student number 1:\n",
      " Name: i, ID: 0909\n",
      " Attendance point: 20.0, Midterm point: 10.0, Final point: 12.0\n",
      "Student number 2:\n",
      " Name: a, ID: 03241\n",
      " Attendance point: 20.0, Midterm point: 8.0, Final point: 12.0\n",
      "Student number 3:\n",
      " Name: o, ID: 03742\n",
      " Attendance point: 9.0, Midterm point: 10.0, Final point: 14.0\n"
     ]
    }
   ],
   "source": [
    "c.disp_all_in4()"
   ]
  }
 ],
 "metadata": {
  "kernelspec": {
   "display_name": "Python 3 (ipykernel)",
   "language": "python",
   "name": "python3"
  },
  "language_info": {
   "codemirror_mode": {
    "name": "ipython",
    "version": 3
   },
   "file_extension": ".py",
   "mimetype": "text/x-python",
   "name": "python",
   "nbconvert_exporter": "python",
   "pygments_lexer": "ipython3",
   "version": "3.9.7"
  },
  "vscode": {
   "interpreter": {
    "hash": "4190709d6e280ace38204881aaa2cc9ca01fc3a05cd5ca73ecbdee2068925997"
   }
  }
 },
 "nbformat": 4,
 "nbformat_minor": 5
}
